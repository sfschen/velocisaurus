{
 "cells": [
  {
   "cell_type": "code",
   "execution_count": 1,
   "id": "f18c4f7a-68c0-40bd-8ae7-112a60f0126c",
   "metadata": {},
   "outputs": [],
   "source": [
    "import numpy as np\n",
    "\n",
    "from matplotlib import pyplot as plt"
   ]
  },
  {
   "cell_type": "code",
   "execution_count": null,
   "id": "360af21e-12aa-4642-8f7a-0aca7888a223",
   "metadata": {},
   "outputs": [],
   "source": []
  },
  {
   "cell_type": "code",
   "execution_count": 2,
   "id": "a274672d-19df-4c9a-a7e6-0eee14e5cae4",
   "metadata": {},
   "outputs": [],
   "source": [
    "from nbodykit.source.catalog import ArrayCatalog\n",
    "from nbodykit.lab import FFTPower"
   ]
  },
  {
   "cell_type": "code",
   "execution_count": null,
   "id": "d5aacb1e-871e-43e4-9279-ef78b19801b0",
   "metadata": {},
   "outputs": [],
   "source": []
  },
  {
   "cell_type": "code",
   "execution_count": 3,
   "id": "447216ed-c69a-47c7-a022-c6fa19ce0637",
   "metadata": {},
   "outputs": [],
   "source": [
    "from abacusnbody.data.compaso_halo_catalog import CompaSOHaloCatalog"
   ]
  },
  {
   "cell_type": "code",
   "execution_count": null,
   "id": "fa42af8b-8a3a-4d31-8540-0380601fb2b7",
   "metadata": {},
   "outputs": [],
   "source": []
  },
  {
   "cell_type": "code",
   "execution_count": null,
   "id": "4382e54a-5057-4d48-9815-0364e83299c6",
   "metadata": {},
   "outputs": [],
   "source": []
  },
  {
   "cell_type": "code",
   "execution_count": null,
   "id": "9820c565-5cb3-4822-abd1-be0463540b7a",
   "metadata": {},
   "outputs": [],
   "source": []
  },
  {
   "cell_type": "code",
   "execution_count": 4,
   "id": "90cf1b23-faa8-432f-88de-64a72110e06f",
   "metadata": {},
   "outputs": [],
   "source": [
    "def measure_pkl(pos, uzs, Lbox=2000, nc=128, dk=0.005):\n",
    "\n",
    "    hpos = 1.0 * pos\n",
    "    hpos[:,2] += uzs\n",
    "\n",
    "    data = {'Position':hpos}\n",
    "    hcat = ArrayCatalog(data)\n",
    "    hmesh = hcat.to_mesh(Nmesh=nc, BoxSize=Lbox, compensated=True, window='cic')\n",
    "\n",
    "    r = FFTPower(hmesh, mode='2d',poles=[0,2,4],los=[0,0,1],Nmu=5, dk=dk)    \n",
    "    k, Nk, p0k, p2k, p4k = r.poles['k'], r.poles['modes'], r.poles['power_0'].real, r.poles['power_2'].real, r.poles['power_4'].real\n",
    "\n",
    "    sn = r.power.attrs['shotnoise']\n",
    "\n",
    "    return k, p0k, p2k, p4k, sn, Nk, r"
   ]
  },
  {
   "cell_type": "code",
   "execution_count": 5,
   "id": "2d1adae5-4657-436e-8758-a2d40d18677a",
   "metadata": {},
   "outputs": [],
   "source": [
    "def measure_pnm(pos, uzs, Lbox=2000, nc=128, dk=0.005, max_order = 4,\\\n",
    "                for_cov=False, redshift_space=False):\n",
    "\n",
    "    hpos = 1.0 * pos\n",
    "\n",
    "    if redshift_space:\n",
    "        hpos[:,2] += uzs\n",
    "        \n",
    "    data = {'Position':hpos}\n",
    "    hcat = ArrayCatalog(data)\n",
    "    \n",
    "    meshes = []\n",
    "    \n",
    "    for ii in range(max_order+1):\n",
    "        vel_name = 'u%d'%(ii)\n",
    "        hcat[vel_name] = uzs**ii\n",
    "        meshes += [hcat.to_mesh(Nmesh=nc, BoxSize=Lbox, compensated=True, window='cic', position='Position',value=vel_name),]\n",
    "\n",
    "    ret = []\n",
    "\n",
    "    ells = [0, 1, 2, 3, 4]\n",
    "    \n",
    "    for vel_order in range(max_order+1):\n",
    "\n",
    "        #print(\"Now computing spectra with %d velocities\"%(vel_order))\n",
    "    \n",
    "        counter = 0\n",
    "        data = []\n",
    "        #header = ''\n",
    "        for ii in range(vel_order+1):\n",
    "            jj = vel_order - ii\n",
    "            \n",
    "            if jj >= ii: # only distinct pairs\n",
    "                #header += ' (%d,%d) |'%(ii,jj)\n",
    "                rij = FFTPower(meshes[ii], mode='1d', poles=list(ells), second=meshes[jj], los=[0,0,1],dk=dk) \n",
    "            \n",
    "                if counter == 0:\n",
    "                    data += [rij.poles['k'],]\n",
    "            \n",
    "                if vel_order%2 == 0:\n",
    "                    data += [ rij.poles['power_%d'%(ell)].real for ell in ells ]\n",
    "                else:\n",
    "                    data += [ rij.poles['power_%d'%(ell)].imag for ell in ells ]\n",
    "            \n",
    "                counter += 1\n",
    "        \n",
    "        ret += [data,]\n",
    "\n",
    "    if for_cov:\n",
    "        data = []\n",
    "        \n",
    "        ii, jj = 1, 2\n",
    "        rij = FFTPower(meshes[ii], mode='1d', poles=list(ells), second=meshes[jj], los=[0,0,1],dk=dk)\n",
    "        data += [rij.poles['k'],]\n",
    "        data += [ rij.poles['power_%d'%(ell)].imag for ell in ells ]\n",
    "\n",
    "        ii, jj = 2, 2\n",
    "        rij = FFTPower(meshes[ii], mode='1d', poles=list(ells), second=meshes[jj], los=[0,0,1],dk=dk)\n",
    "        data += [ rij.poles['power_%d'%(ell)].real for ell in ells ]\n",
    "\n",
    "    ret += [data,]\n",
    "    \n",
    "    return ret"
   ]
  },
  {
   "cell_type": "code",
   "execution_count": null,
   "id": "e6dfb243-fa2c-473b-b1d5-06f18cce8afc",
   "metadata": {},
   "outputs": [],
   "source": []
  },
  {
   "cell_type": "code",
   "execution_count": 6,
   "id": "e868a09f-f297-4992-ad39-217d344441b7",
   "metadata": {},
   "outputs": [],
   "source": [
    "basedir = '/global/cfs/cdirs/desi/public/cosmosim/AbacusSummit/'"
   ]
  },
  {
   "cell_type": "code",
   "execution_count": 7,
   "id": "c888245b-29ae-4d02-b17b-d392753b4f6c",
   "metadata": {},
   "outputs": [
    {
     "ename": "NameError",
     "evalue": "name 'sample' is not defined",
     "output_type": "error",
     "traceback": [
      "\u001b[0;31m---------------------------------------------------------------------------\u001b[0m",
      "\u001b[0;31mNameError\u001b[0m                                 Traceback (most recent call last)",
      "\u001b[0;32m/tmp/ipykernel_189228/1084058279.py\u001b[0m in \u001b[0;36m<module>\u001b[0;34m\u001b[0m\n\u001b[0;32m----> 1\u001b[0;31m \u001b[0mfilebase\u001b[0m \u001b[0;34m=\u001b[0m \u001b[0;34m\"pnms/\"\u001b[0m\u001b[0;34m+\u001b[0m\u001b[0;34m\"_\"\u001b[0m\u001b[0;34m.\u001b[0m\u001b[0mjoin\u001b[0m\u001b[0;34m(\u001b[0m\u001b[0msample\u001b[0m\u001b[0;34m.\u001b[0m\u001b[0msplit\u001b[0m\u001b[0;34m(\u001b[0m\u001b[0;34m\"_\"\u001b[0m\u001b[0;34m)\u001b[0m\u001b[0;34m[\u001b[0m\u001b[0;34m:\u001b[0m\u001b[0;36m3\u001b[0m\u001b[0;34m]\u001b[0m\u001b[0;34m)\u001b[0m \u001b[0;34m+\u001b[0m \u001b[0;34m'_'\u001b[0m \u001b[0;34m+\u001b[0m \u001b[0msample\u001b[0m\u001b[0;34m.\u001b[0m\u001b[0msplit\u001b[0m\u001b[0;34m(\u001b[0m\u001b[0;34m\"_\"\u001b[0m\u001b[0;34m)\u001b[0m\u001b[0;34m[\u001b[0m\u001b[0;34m-\u001b[0m\u001b[0;36m1\u001b[0m\u001b[0;34m]\u001b[0m\u001b[0;34m[\u001b[0m\u001b[0;34m-\u001b[0m\u001b[0;36m6\u001b[0m\u001b[0;34m:\u001b[0m\u001b[0;34m]\u001b[0m \u001b[0;34m+\u001b[0m \u001b[0;34m'_'\u001b[0m \u001b[0;34m+\u001b[0m \u001b[0;34mf'{logMmin:.1f}'\u001b[0m \u001b[0;34m+\u001b[0m \u001b[0;34m'_'\u001b[0m \u001b[0;34m+\u001b[0m \u001b[0;34mf'{logMmax:.1f}'\u001b[0m\u001b[0;34m\u001b[0m\u001b[0;34m\u001b[0m\u001b[0m\n\u001b[0m",
      "\u001b[0;31mNameError\u001b[0m: name 'sample' is not defined"
     ]
    }
   ],
   "source": [
    "filebase = \"pnms/\"+\"_\".join(sample.split(\"_\")[:3]) + '_' + sample.split(\"_\")[-1][-6:] + '_' + f'{logMmin:.1f}' + '_' + f'{logMmax:.1f}'"
   ]
  },
  {
   "cell_type": "code",
   "execution_count": null,
   "id": "68085f4e-83a7-49df-a6aa-36f02d20f7ae",
   "metadata": {},
   "outputs": [],
   "source": []
  },
  {
   "cell_type": "code",
   "execution_count": 8,
   "id": "6c4cfb9c-5b05-4792-91a6-88a9dcdd80c4",
   "metadata": {},
   "outputs": [
    {
     "ename": "NameError",
     "evalue": "name 'sample' is not defined",
     "output_type": "error",
     "traceback": [
      "\u001b[0;31m---------------------------------------------------------------------------\u001b[0m",
      "\u001b[0;31mNameError\u001b[0m                                 Traceback (most recent call last)",
      "\u001b[0;32m/tmp/ipykernel_189228/1007176509.py\u001b[0m in \u001b[0;36m<module>\u001b[0;34m\u001b[0m\n\u001b[0;32m----> 1\u001b[0;31m \u001b[0msample\u001b[0m\u001b[0;34m\u001b[0m\u001b[0;34m\u001b[0m\u001b[0m\n\u001b[0m",
      "\u001b[0;31mNameError\u001b[0m: name 'sample' is not defined"
     ]
    }
   ],
   "source": [
    "sample"
   ]
  },
  {
   "cell_type": "code",
   "execution_count": 9,
   "id": "0a0b1647-86c9-4578-b9c5-2153059ffa3e",
   "metadata": {},
   "outputs": [],
   "source": [
    "logMmin = 12.5\n",
    "logMmax = 13.0\n",
    "z = 0.3"
   ]
  },
  {
   "cell_type": "code",
   "execution_count": 13,
   "id": "d48832c5-dc16-4f2b-8a5c-8cfc00d582e1",
   "metadata": {},
   "outputs": [
    {
     "name": "stdout",
     "output_type": "stream",
     "text": [
      "1\n"
     ]
    },
    {
     "name": "stderr",
     "output_type": "stream",
     "text": [
      "/global/homes/s/sfschen/.conda/envs/nbodykit_env/lib/python3.7/site-packages/ipykernel_launcher.py:17: DeprecationWarning: The window argument is deprecated. Use `resampler=` instead\n",
      "  app.launch_new_instance()\n"
     ]
    },
    {
     "name": "stdout",
     "output_type": "stream",
     "text": [
      "2\n",
      "3\n",
      "4\n",
      "5\n",
      "6\n",
      "7\n",
      "8\n",
      "9\n",
      "10\n",
      "11\n",
      "12\n",
      "13\n",
      "14\n",
      "15\n",
      "16\n",
      "17\n",
      "18\n",
      "19\n",
      "20\n",
      "21\n",
      "22\n",
      "23\n",
      "24\n"
     ]
    }
   ],
   "source": [
    "p0ks, p2ks, p4ks = [], [], []\n",
    "v1ks, v3ks = [], []\n",
    "s0ks, s2ks = [], []\n",
    "\n",
    "\n",
    "for ii in range(1,25):\n",
    "\n",
    "    print(ii)\n",
    "    \n",
    "    sample = f'AbacusSummit_base_c000_ph{ii:03}/halos/z{z:.3f}'\n",
    "    filename = basedir + sample\n",
    "\n",
    "    cat = CompaSOHaloCatalog(basedir+sample,fields=('x_com','v_com','N'))\n",
    "    \n",
    "    particle_mass = cat.header['ParticleMassHMsun'] # / (cat.header['H0']/100)\n",
    "    Ms = cat.halos['N'] * particle_mass\n",
    "    mass_iis = (Ms > 10.**logMmin) * (Ms < 10**logMmax)\n",
    "    cat.halos = cat.halos[mass_iis]\n",
    "\n",
    "    Lbox = cat.header['BoxSize']\n",
    "    nc = 256\n",
    "\n",
    "    OmegaM = cat.header['Omega_M']\n",
    "    z = cat.header['Redshift']\n",
    "    Ez = np.sqrt(OmegaM * (1+z)**3 + 1 - OmegaM)\n",
    "    vfac = 0.01 * (1 + z) / Ez # convert km/s to h^{-1} Mpc, u = v / (aH) = v * (1+z) / (100 * E(z))\n",
    "    uz = cat.halos['v_com'][:,2] * vfac\n",
    "\n",
    "\n",
    "    res = measure_pnm(cat.halos['x_com'], uz, Lbox=Lbox, nc=nc, dk=0.005, max_order=2,\\\n",
    "                      for_cov=True, redshift_space=True)\n",
    "\n",
    "    kk, p0k, p1k, p2k, p3k, p4k = res[0]\n",
    "\n",
    "    kk, p01_0, p01_1, p01_2, p01_3, p01_4 = res[1]\n",
    "\n",
    "    kk, p02_0, p02_1, p02_2, p02_3, p02_4, p11_0, p11_1, p11_2, p11_3, p11_4 = res[2]\n",
    "\n",
    "    kk, p12_0, p12_1, p12_2, p12_3, p12_4, p22_0, p22_1, p22_2, p22_3, p22_4 = res[3]\n",
    "\n",
    "    p0ks += [p0k,]\n",
    "    p2ks += [p2k,]\n",
    "    p4ks += [p4k,]\n",
    "    v1ks += [2j * p01_1,]\n",
    "    v3ks += [2j * p01_3,]\n",
    "    s0ks += [(2*p02_0 - 2*p11_0),]\n",
    "    s2ks += [(2*p02_2 - 2*p11_2),]\n",
    "\n",
    "    filebase = \"pnms/\"+\"_\".join(sample.split(\"_\")[:3]) + '_' + sample.split(\"_\")[-1][-6:] + '_' + f'{logMmin:.1f}' + '_' + f'{logMmax:.1f}'\n",
    "    \n",
    "    np.savetxt(filebase + f'_ph{ii:03}_pnms_v0_rsd.txt', np.array(res[0]).T)\n",
    "    np.savetxt(filebase + f'_ph{ii:03}_pnms_v1_rsd.txt', np.array(res[1]).T)\n",
    "    np.savetxt(filebase + f'_ph{ii:03}_pnms_v2_rsd.txt', np.array(res[2]).T)\n",
    "    np.savetxt(filebase + f'_ph{ii:03}_pnms_higher_rsd.txt', np.array(res[3]).T)\n",
    "    "
   ]
  },
  {
   "cell_type": "code",
   "execution_count": null,
   "id": "303148f1-bf30-476f-b18a-1802b8283885",
   "metadata": {},
   "outputs": [],
   "source": []
  },
  {
   "cell_type": "code",
   "execution_count": null,
   "id": "39970fb9-624e-4a97-8404-3228132481e9",
   "metadata": {},
   "outputs": [],
   "source": []
  },
  {
   "cell_type": "code",
   "execution_count": null,
   "id": "9ce3087c-4fb9-41c1-9b0c-5e5ab696e610",
   "metadata": {},
   "outputs": [],
   "source": []
  },
  {
   "cell_type": "code",
   "execution_count": null,
   "id": "b279a033-121c-4ff9-a37b-a91b7cd7fe93",
   "metadata": {},
   "outputs": [],
   "source": []
  },
  {
   "cell_type": "code",
   "execution_count": null,
   "id": "d6425e80-d3b1-45ae-ab9d-d6dd7978c68d",
   "metadata": {},
   "outputs": [],
   "source": []
  },
  {
   "cell_type": "code",
   "execution_count": null,
   "id": "640a546a-cbfa-4757-ac06-8c77503ebb4b",
   "metadata": {},
   "outputs": [],
   "source": []
  },
  {
   "cell_type": "code",
   "execution_count": null,
   "id": "1fce8ca5-2022-44f5-98d6-9b25fcb9e3e8",
   "metadata": {},
   "outputs": [],
   "source": []
  },
  {
   "cell_type": "code",
   "execution_count": null,
   "id": "4c2e0937-ed38-4568-9e0f-95f70efb7fb4",
   "metadata": {},
   "outputs": [],
   "source": []
  },
  {
   "cell_type": "code",
   "execution_count": null,
   "id": "e8f04169-7272-4f86-a813-d03c56a68efc",
   "metadata": {},
   "outputs": [],
   "source": []
  },
  {
   "cell_type": "code",
   "execution_count": null,
   "id": "0c34e2d5-6fa8-4fb4-b597-84f218be1cbd",
   "metadata": {},
   "outputs": [],
   "source": []
  },
  {
   "cell_type": "code",
   "execution_count": null,
   "id": "a69dcbb4-1fac-432d-9f72-c1eb0a1b8ed6",
   "metadata": {},
   "outputs": [],
   "source": []
  },
  {
   "cell_type": "code",
   "execution_count": null,
   "id": "59c92655-8f24-476a-b4e9-083cb5218e04",
   "metadata": {},
   "outputs": [],
   "source": []
  },
  {
   "cell_type": "code",
   "execution_count": null,
   "id": "52f4864e-7dde-4472-8ff4-0d5e10f25d60",
   "metadata": {},
   "outputs": [],
   "source": []
  },
  {
   "cell_type": "code",
   "execution_count": null,
   "id": "d302928c-c379-41cd-b3d7-6d3a13d287ab",
   "metadata": {},
   "outputs": [],
   "source": []
  },
  {
   "cell_type": "code",
   "execution_count": null,
   "id": "b404be48-94d0-44cf-9d50-2da19b5b5a77",
   "metadata": {},
   "outputs": [],
   "source": []
  },
  {
   "cell_type": "code",
   "execution_count": null,
   "id": "dfbc42f7-cfcf-497c-89d2-ccacf72ca4f4",
   "metadata": {},
   "outputs": [],
   "source": []
  },
  {
   "cell_type": "code",
   "execution_count": null,
   "id": "49ead767-f6e3-4d2f-ba67-9c5495b8123d",
   "metadata": {},
   "outputs": [],
   "source": []
  },
  {
   "cell_type": "code",
   "execution_count": null,
   "id": "e90cc373-0caf-4b5b-a265-5aa8a4e007ab",
   "metadata": {},
   "outputs": [],
   "source": []
  },
  {
   "cell_type": "code",
   "execution_count": null,
   "id": "ba1a28c3-9d85-484d-8b07-40f4e34f9a61",
   "metadata": {},
   "outputs": [],
   "source": []
  },
  {
   "cell_type": "code",
   "execution_count": null,
   "id": "751a19f4-af73-4cbc-bf25-6aa4904587c0",
   "metadata": {},
   "outputs": [],
   "source": []
  },
  {
   "cell_type": "code",
   "execution_count": null,
   "id": "0800593b-9234-4171-9518-ca1f5f7e4bbc",
   "metadata": {},
   "outputs": [],
   "source": []
  },
  {
   "cell_type": "code",
   "execution_count": null,
   "id": "1d154b10-9f6e-4642-8a61-f5a5c1050c35",
   "metadata": {},
   "outputs": [],
   "source": []
  },
  {
   "cell_type": "code",
   "execution_count": null,
   "id": "614332a3-a234-4409-bd79-46e296518291",
   "metadata": {},
   "outputs": [],
   "source": []
  },
  {
   "cell_type": "code",
   "execution_count": null,
   "id": "123788a4-4fc1-447d-82da-1bedd8656739",
   "metadata": {},
   "outputs": [],
   "source": []
  },
  {
   "cell_type": "code",
   "execution_count": null,
   "id": "9e011242-b00d-42b8-aab4-eb9ba3e78366",
   "metadata": {},
   "outputs": [],
   "source": []
  },
  {
   "cell_type": "code",
   "execution_count": null,
   "id": "6f674780-e52e-42c2-b26c-0109f9ff5137",
   "metadata": {},
   "outputs": [],
   "source": []
  },
  {
   "cell_type": "code",
   "execution_count": null,
   "id": "196e5afd-3512-4a9f-a122-674d093cb28f",
   "metadata": {},
   "outputs": [],
   "source": []
  },
  {
   "cell_type": "code",
   "execution_count": null,
   "id": "faf03930-1aa0-464b-8e1a-07862ba79656",
   "metadata": {},
   "outputs": [],
   "source": []
  },
  {
   "cell_type": "code",
   "execution_count": null,
   "id": "f6a9b377-1437-4e64-9848-99c18fa4c8e0",
   "metadata": {},
   "outputs": [],
   "source": []
  },
  {
   "cell_type": "code",
   "execution_count": null,
   "id": "833ada9f-581f-4108-880f-0087e2dce471",
   "metadata": {},
   "outputs": [],
   "source": []
  },
  {
   "cell_type": "code",
   "execution_count": null,
   "id": "8c568455-46b4-47a3-8cfd-61909f7d655b",
   "metadata": {},
   "outputs": [],
   "source": []
  },
  {
   "cell_type": "code",
   "execution_count": null,
   "id": "647f578e-ea34-4fe7-9a28-c6952111365b",
   "metadata": {},
   "outputs": [],
   "source": []
  },
  {
   "cell_type": "code",
   "execution_count": null,
   "id": "133884da-7bbf-44c8-a9a2-73bc6d3238ef",
   "metadata": {},
   "outputs": [],
   "source": []
  },
  {
   "cell_type": "code",
   "execution_count": null,
   "id": "667bb59e-9026-4d8a-a98a-ec8f7c4bbc77",
   "metadata": {},
   "outputs": [],
   "source": []
  },
  {
   "cell_type": "code",
   "execution_count": null,
   "id": "43f45b98-9d0e-4578-ab88-3e5242b00d01",
   "metadata": {},
   "outputs": [],
   "source": []
  },
  {
   "cell_type": "code",
   "execution_count": null,
   "id": "7de5d84e-6b62-41eb-b5b2-fd53688f7c3e",
   "metadata": {},
   "outputs": [],
   "source": []
  },
  {
   "cell_type": "code",
   "execution_count": null,
   "id": "a3bc6b04-2de3-4b67-9794-5a27c2e44069",
   "metadata": {},
   "outputs": [],
   "source": []
  },
  {
   "cell_type": "code",
   "execution_count": null,
   "id": "589a445a-8a2d-4a80-9cde-266f7cae9131",
   "metadata": {},
   "outputs": [],
   "source": []
  },
  {
   "cell_type": "code",
   "execution_count": null,
   "id": "3f26cd58-f319-4264-ad0e-1de36cb63d8e",
   "metadata": {},
   "outputs": [],
   "source": []
  },
  {
   "cell_type": "code",
   "execution_count": null,
   "id": "0aaec035-bb7e-4d79-9515-46f79353ac1b",
   "metadata": {},
   "outputs": [],
   "source": []
  },
  {
   "cell_type": "code",
   "execution_count": null,
   "id": "51859b49-1895-422f-901a-98652d9b7391",
   "metadata": {},
   "outputs": [],
   "source": []
  },
  {
   "cell_type": "code",
   "execution_count": null,
   "id": "59b72c78-3fcb-42be-8a11-fb75462d85b3",
   "metadata": {},
   "outputs": [],
   "source": []
  },
  {
   "cell_type": "code",
   "execution_count": null,
   "id": "f3b3412b-5414-4973-9909-17de8154c84a",
   "metadata": {},
   "outputs": [],
   "source": []
  },
  {
   "cell_type": "code",
   "execution_count": null,
   "id": "e9ab1eef-b2fa-40fd-ada9-1cc749efff03",
   "metadata": {},
   "outputs": [],
   "source": []
  },
  {
   "cell_type": "code",
   "execution_count": null,
   "id": "0f73c7fe-2b23-445a-afb4-c4caa97fbf7f",
   "metadata": {},
   "outputs": [],
   "source": []
  },
  {
   "cell_type": "code",
   "execution_count": null,
   "id": "0f39958d-7d25-469b-b6f4-8c24884769c9",
   "metadata": {},
   "outputs": [],
   "source": []
  },
  {
   "cell_type": "code",
   "execution_count": null,
   "id": "a2517c04-8fe2-4594-abb8-37ccb67426ea",
   "metadata": {},
   "outputs": [],
   "source": []
  },
  {
   "cell_type": "code",
   "execution_count": null,
   "id": "1a792661-416e-44da-8a2d-eafd0ce980e0",
   "metadata": {},
   "outputs": [],
   "source": []
  },
  {
   "cell_type": "code",
   "execution_count": null,
   "id": "84b37adb-f498-42b0-b295-1b163e33e3ec",
   "metadata": {},
   "outputs": [],
   "source": []
  },
  {
   "cell_type": "code",
   "execution_count": null,
   "id": "3eb1fa98-b6fa-4824-b0b6-040a24a40f13",
   "metadata": {},
   "outputs": [],
   "source": []
  },
  {
   "cell_type": "code",
   "execution_count": null,
   "id": "5e3dbb36-2239-4f6f-8a18-e79f48575434",
   "metadata": {},
   "outputs": [],
   "source": []
  },
  {
   "cell_type": "code",
   "execution_count": null,
   "id": "c2316253-104a-47ff-abc1-e913ebc1b0d9",
   "metadata": {},
   "outputs": [],
   "source": []
  },
  {
   "cell_type": "code",
   "execution_count": null,
   "id": "66b5c8d7-050e-4aab-97fa-6ec932af9e05",
   "metadata": {},
   "outputs": [],
   "source": []
  },
  {
   "cell_type": "code",
   "execution_count": null,
   "id": "1fab68dd-8d42-47dc-95ab-780df4ecfb06",
   "metadata": {},
   "outputs": [],
   "source": []
  },
  {
   "cell_type": "code",
   "execution_count": null,
   "id": "d51e2284-091f-43a7-942a-603bd457639e",
   "metadata": {},
   "outputs": [],
   "source": []
  },
  {
   "cell_type": "code",
   "execution_count": null,
   "id": "3c55568b-3aad-4411-8274-1878f3386286",
   "metadata": {},
   "outputs": [],
   "source": []
  },
  {
   "cell_type": "code",
   "execution_count": null,
   "id": "d3dfc6e7-04a4-48a5-8d45-61d547b1588a",
   "metadata": {},
   "outputs": [],
   "source": []
  },
  {
   "cell_type": "code",
   "execution_count": null,
   "id": "4d92f829-17b8-4528-bcf5-1d66bb42ef68",
   "metadata": {},
   "outputs": [],
   "source": []
  },
  {
   "cell_type": "code",
   "execution_count": null,
   "id": "9c4e05e3-337d-4d10-b35a-c2c0b10b871f",
   "metadata": {},
   "outputs": [],
   "source": []
  },
  {
   "cell_type": "code",
   "execution_count": null,
   "id": "57b240db-978a-44aa-9972-8b7d3e76c808",
   "metadata": {},
   "outputs": [],
   "source": []
  }
 ],
 "metadata": {
  "kernelspec": {
   "display_name": "nbodykit_env",
   "language": "python",
   "name": "nbodykit_env"
  },
  "language_info": {
   "codemirror_mode": {
    "name": "ipython",
    "version": 3
   },
   "file_extension": ".py",
   "mimetype": "text/x-python",
   "name": "python",
   "nbconvert_exporter": "python",
   "pygments_lexer": "ipython3",
   "version": "3.7.12"
  }
 },
 "nbformat": 4,
 "nbformat_minor": 5
}
